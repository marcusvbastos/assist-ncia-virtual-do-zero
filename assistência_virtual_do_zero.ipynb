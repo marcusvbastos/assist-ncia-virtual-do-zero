{
  "nbformat": 4,
  "nbformat_minor": 0,
  "metadata": {
    "colab": {
      "provenance": [],
      "authorship_tag": "ABX9TyPv1oFDWLhuZJENrHAYmCNe",
      "include_colab_link": true
    },
    "kernelspec": {
      "name": "python3",
      "display_name": "Python 3"
    },
    "language_info": {
      "name": "python"
    }
  },
  "cells": [
    {
      "cell_type": "markdown",
      "metadata": {
        "id": "view-in-github",
        "colab_type": "text"
      },
      "source": [
        "<a href=\"https://colab.research.google.com/github/marcusvbastos/assist-ncia-virtual-do-zero/blob/main/assist%C3%AAncia_virtual_do_zero.ipynb\" target=\"_parent\"><img src=\"https://colab.research.google.com/assets/colab-badge.svg\" alt=\"Open In Colab\"/></a>"
      ]
    },
    {
      "cell_type": "code",
      "source": [
        "# Instalando as bibliotecas necessárias\n",
        "!pip install SpeechRecognition\n",
        "!pip install gTTS\n",
        "!pip install wikipedia\n",
        "!pip install geocoder\n",
        "!pip install folium\n",
        "!pip install google-search-results\n",
        "\n",
        "# Importando as bibliotecas\n",
        "from gtts import gTTS\n",
        "import os\n",
        "import wikipedia\n",
        "import webbrowser\n",
        "import geocoder\n",
        "import folium\n",
        "from IPython.display import display, HTML, Audio\n",
        "import wikipedia\n",
        "\n",
        "class AssistenteVirtual:\n",
        "    def __init__(self):\n",
        "        # Define o idioma padrão para português\n",
        "        wikipedia.set_lang(\"pt\")\n",
        "\n",
        "    def falar(self, texto):\n",
        "        \"\"\"Módulo de text to speech usando gTTS\"\"\"\n",
        "        tts = gTTS(text=texto, lang='pt')\n",
        "        tts.save('fala.mp3')\n",
        "        return Audio('fala.mp3', autoplay=True)\n",
        "\n",
        "    def processar_comando(self, comando):\n",
        "        \"\"\"Processa os comandos de texto\"\"\"\n",
        "        if \"wikipedia\" in comando.lower():\n",
        "            return self.pesquisar_wikipedia(comando)\n",
        "        elif \"youtube\" in comando.lower():\n",
        "            return self.abrir_youtube()\n",
        "        elif \"farmacia\" in comando.lower():\n",
        "            return self.encontrar_farmacia()\n",
        "        else:\n",
        "            return \"Comando não reconhecido. Tente: 'wikipedia [termo]', 'youtube' ou 'farmacia'\"\n",
        "\n",
        "    def pesquisar_wikipedia(self, comando):\n",
        "        \"\"\"Realiza pesquisa na Wikipedia\"\"\"\n",
        "        try:\n",
        "            termo = comando.replace(\"wikipedia\", \"\").strip()\n",
        "            resultado = wikipedia.summary(termo, sentences=2)\n",
        "            return self.falar(resultado)\n",
        "        except:\n",
        "            return self.falar(\"Não encontrei informações sobre isso na Wikipédia\")\n",
        "\n",
        "    def abrir_youtube(self):\n",
        "        \"\"\"Retorna link do YouTube\"\"\"\n",
        "        return HTML('<a href=\"https://www.youtube.com\" target=\"_blank\">Clique aqui para abrir o YouTube</a>')\n",
        "\n",
        "    def encontrar_farmacia(self):\n",
        "        \"\"\"Encontra farmácias próximas\"\"\"\n",
        "        try:\n",
        "            # Obtém localização atual\n",
        "            g = geocoder.ip('me')\n",
        "            lat, lng = g.latlng\n",
        "\n",
        "            # Cria mapa com localização\n",
        "            mapa = folium.Map(location=[lat, lng], zoom_start=15)\n",
        "            folium.Marker([lat, lng], popup='Sua localização').add_to(mapa)\n",
        "\n",
        "            # Salva o mapa\n",
        "            mapa.save('farmacias_proximas.html')\n",
        "            return self.falar(\"Mapa criado com sua localização atual\")\n",
        "        except:\n",
        "            return self.falar(\"Não foi possível obter sua localização\")\n",
        "\n",
        "# Função para interagir com o assistente\n",
        "def interagir_com_assistente():\n",
        "    assistente = AssistenteVirtual()\n",
        "\n",
        "    # Interface simples usando HTML\n",
        "    display(HTML(\"\"\"\n",
        "    <div style='background-color: #f0f0f0; padding: 10px; border-radius: 5px;'>\n",
        "    <h3>Assistente Virtual</h3>\n",
        "    <p>Comandos disponíveis:</p>\n",
        "    <ul>\n",
        "        <li>wikipedia [termo] - Pesquisa um termo na Wikipedia</li>\n",
        "        <li>youtube - Abre o YouTube</li>\n",
        "        <li>farmacia - Mostra farmácias próximas</li>\n",
        "    </ul>\n",
        "    </div>\n",
        "    \"\"\"))\n",
        "\n",
        "    # Exemplo de uso\n",
        "    comando = input(\"Digite seu comando: \")\n",
        "    return assistente.processar_comando(comando)\n",
        "\n",
        "# Executar o assistente\n",
        "interagir_com_assistente()\n"
      ],
      "metadata": {
        "colab": {
          "base_uri": "https://localhost:8080/",
          "height": 977
        },
        "id": "KrdbKAiIRepS",
        "outputId": "2d574b1a-e3a9-4576-f10f-c6a91b8f2b1b"
      },
      "execution_count": 3,
      "outputs": [
        {
          "output_type": "stream",
          "name": "stdout",
          "text": [
            "Requirement already satisfied: SpeechRecognition in /usr/local/lib/python3.10/dist-packages (3.13.0)\n",
            "Requirement already satisfied: typing-extensions in /usr/local/lib/python3.10/dist-packages (from SpeechRecognition) (4.12.2)\n",
            "Requirement already satisfied: gTTS in /usr/local/lib/python3.10/dist-packages (2.5.4)\n",
            "Requirement already satisfied: requests<3,>=2.27 in /usr/local/lib/python3.10/dist-packages (from gTTS) (2.32.3)\n",
            "Requirement already satisfied: click<8.2,>=7.1 in /usr/local/lib/python3.10/dist-packages (from gTTS) (8.1.8)\n",
            "Requirement already satisfied: charset-normalizer<4,>=2 in /usr/local/lib/python3.10/dist-packages (from requests<3,>=2.27->gTTS) (3.4.1)\n",
            "Requirement already satisfied: idna<4,>=2.5 in /usr/local/lib/python3.10/dist-packages (from requests<3,>=2.27->gTTS) (3.10)\n",
            "Requirement already satisfied: urllib3<3,>=1.21.1 in /usr/local/lib/python3.10/dist-packages (from requests<3,>=2.27->gTTS) (2.3.0)\n",
            "Requirement already satisfied: certifi>=2017.4.17 in /usr/local/lib/python3.10/dist-packages (from requests<3,>=2.27->gTTS) (2024.12.14)\n",
            "Requirement already satisfied: wikipedia in /usr/local/lib/python3.10/dist-packages (1.4.0)\n",
            "Requirement already satisfied: beautifulsoup4 in /usr/local/lib/python3.10/dist-packages (from wikipedia) (4.12.3)\n",
            "Requirement already satisfied: requests<3.0.0,>=2.0.0 in /usr/local/lib/python3.10/dist-packages (from wikipedia) (2.32.3)\n",
            "Requirement already satisfied: charset-normalizer<4,>=2 in /usr/local/lib/python3.10/dist-packages (from requests<3.0.0,>=2.0.0->wikipedia) (3.4.1)\n",
            "Requirement already satisfied: idna<4,>=2.5 in /usr/local/lib/python3.10/dist-packages (from requests<3.0.0,>=2.0.0->wikipedia) (3.10)\n",
            "Requirement already satisfied: urllib3<3,>=1.21.1 in /usr/local/lib/python3.10/dist-packages (from requests<3.0.0,>=2.0.0->wikipedia) (2.3.0)\n",
            "Requirement already satisfied: certifi>=2017.4.17 in /usr/local/lib/python3.10/dist-packages (from requests<3.0.0,>=2.0.0->wikipedia) (2024.12.14)\n",
            "Requirement already satisfied: soupsieve>1.2 in /usr/local/lib/python3.10/dist-packages (from beautifulsoup4->wikipedia) (2.6)\n",
            "Requirement already satisfied: geocoder in /usr/local/lib/python3.10/dist-packages (1.38.1)\n",
            "Requirement already satisfied: click in /usr/local/lib/python3.10/dist-packages (from geocoder) (8.1.8)\n",
            "Requirement already satisfied: future in /usr/local/lib/python3.10/dist-packages (from geocoder) (1.0.0)\n",
            "Requirement already satisfied: ratelim in /usr/local/lib/python3.10/dist-packages (from geocoder) (0.1.6)\n",
            "Requirement already satisfied: requests in /usr/local/lib/python3.10/dist-packages (from geocoder) (2.32.3)\n",
            "Requirement already satisfied: six in /usr/local/lib/python3.10/dist-packages (from geocoder) (1.17.0)\n",
            "Requirement already satisfied: decorator in /usr/local/lib/python3.10/dist-packages (from ratelim->geocoder) (4.4.2)\n",
            "Requirement already satisfied: charset-normalizer<4,>=2 in /usr/local/lib/python3.10/dist-packages (from requests->geocoder) (3.4.1)\n",
            "Requirement already satisfied: idna<4,>=2.5 in /usr/local/lib/python3.10/dist-packages (from requests->geocoder) (3.10)\n",
            "Requirement already satisfied: urllib3<3,>=1.21.1 in /usr/local/lib/python3.10/dist-packages (from requests->geocoder) (2.3.0)\n",
            "Requirement already satisfied: certifi>=2017.4.17 in /usr/local/lib/python3.10/dist-packages (from requests->geocoder) (2024.12.14)\n",
            "Requirement already satisfied: folium in /usr/local/lib/python3.10/dist-packages (0.19.4)\n",
            "Requirement already satisfied: branca>=0.6.0 in /usr/local/lib/python3.10/dist-packages (from folium) (0.8.1)\n",
            "Requirement already satisfied: jinja2>=2.9 in /usr/local/lib/python3.10/dist-packages (from folium) (3.1.5)\n",
            "Requirement already satisfied: numpy in /usr/local/lib/python3.10/dist-packages (from folium) (1.26.4)\n",
            "Requirement already satisfied: requests in /usr/local/lib/python3.10/dist-packages (from folium) (2.32.3)\n",
            "Requirement already satisfied: xyzservices in /usr/local/lib/python3.10/dist-packages (from folium) (2024.9.0)\n",
            "Requirement already satisfied: MarkupSafe>=2.0 in /usr/local/lib/python3.10/dist-packages (from jinja2>=2.9->folium) (3.0.2)\n",
            "Requirement already satisfied: charset-normalizer<4,>=2 in /usr/local/lib/python3.10/dist-packages (from requests->folium) (3.4.1)\n",
            "Requirement already satisfied: idna<4,>=2.5 in /usr/local/lib/python3.10/dist-packages (from requests->folium) (3.10)\n",
            "Requirement already satisfied: urllib3<3,>=1.21.1 in /usr/local/lib/python3.10/dist-packages (from requests->folium) (2.3.0)\n",
            "Requirement already satisfied: certifi>=2017.4.17 in /usr/local/lib/python3.10/dist-packages (from requests->folium) (2024.12.14)\n",
            "Requirement already satisfied: google-search-results in /usr/local/lib/python3.10/dist-packages (2.4.2)\n",
            "Requirement already satisfied: requests in /usr/local/lib/python3.10/dist-packages (from google-search-results) (2.32.3)\n",
            "Requirement already satisfied: charset-normalizer<4,>=2 in /usr/local/lib/python3.10/dist-packages (from requests->google-search-results) (3.4.1)\n",
            "Requirement already satisfied: idna<4,>=2.5 in /usr/local/lib/python3.10/dist-packages (from requests->google-search-results) (3.10)\n",
            "Requirement already satisfied: urllib3<3,>=1.21.1 in /usr/local/lib/python3.10/dist-packages (from requests->google-search-results) (2.3.0)\n",
            "Requirement already satisfied: certifi>=2017.4.17 in /usr/local/lib/python3.10/dist-packages (from requests->google-search-results) (2024.12.14)\n"
          ]
        },
        {
          "output_type": "display_data",
          "data": {
            "text/plain": [
              "<IPython.core.display.HTML object>"
            ],
            "text/html": [
              "\n",
              "    <div style='background-color: #f0f0f0; padding: 10px; border-radius: 5px;'>\n",
              "    <h3>Assistente Virtual</h3>\n",
              "    <p>Comandos disponíveis:</p>\n",
              "    <ul>\n",
              "        <li>wikipedia [termo] - Pesquisa um termo na Wikipedia</li>\n",
              "        <li>youtube - Abre o YouTube</li>\n",
              "        <li>farmacia - Mostra farmácias próximas</li>\n",
              "    </ul>\n",
              "    </div>\n",
              "    "
            ]
          },
          "metadata": {}
        },
        {
          "name": "stdout",
          "output_type": "stream",
          "text": [
            "Digite seu comando: Abre o YouTube\n"
          ]
        },
        {
          "output_type": "execute_result",
          "data": {
            "text/plain": [
              "<IPython.core.display.HTML object>"
            ],
            "text/html": [
              "<a href=\"https://www.youtube.com\" target=\"_blank\">Clique aqui para abrir o YouTube</a>"
            ]
          },
          "metadata": {},
          "execution_count": 3
        }
      ]
    }
  ]
}